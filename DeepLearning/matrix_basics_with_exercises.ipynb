{
 "cells": [
  {
   "cell_type": "code",
   "execution_count": 1,
   "id": "278dfecc",
   "metadata": {},
   "outputs": [],
   "source": [
    "import numpy as np"
   ]
  },
  {
   "cell_type": "code",
   "execution_count": 2,
   "id": "85c451a2",
   "metadata": {},
   "outputs": [],
   "source": [
    "revenue = np.array([[180, 200, 220], [24, 36, 40], [12, 18, 20]])\n",
    "expenses = np.array([[80, 90, 100], [10, 16, 20], [8, 10, 10]])"
   ]
  },
  {
   "cell_type": "code",
   "execution_count": 3,
   "id": "351e540e",
   "metadata": {},
   "outputs": [
    {
     "data": {
      "text/plain": [
       "array([[100, 110, 120],\n",
       "       [ 14,  20,  20],\n",
       "       [  4,   8,  10]])"
      ]
     },
     "execution_count": 3,
     "metadata": {},
     "output_type": "execute_result"
    }
   ],
   "source": [
    "profit = revenue - expenses\n",
    "profit"
   ]
  },
  {
   "cell_type": "code",
   "execution_count": 4,
   "id": "c8ada79e",
   "metadata": {},
   "outputs": [],
   "source": [
    "price_per_unit = np.array([1000, 400, 1200])\n",
    "units = np.array([[30, 40, 50], [5, 10, 15], [2, 5, 7]])"
   ]
  },
  {
   "cell_type": "code",
   "execution_count": 7,
   "id": "7a4d7c5c",
   "metadata": {},
   "outputs": [
    {
     "data": {
      "text/plain": [
       "array([[30000, 16000, 60000],\n",
       "       [ 5000,  4000, 18000],\n",
       "       [ 2000,  2000,  8400]])"
      ]
     },
     "execution_count": 7,
     "metadata": {},
     "output_type": "execute_result"
    }
   ],
   "source": [
    "price_per_unit*units"
   ]
  },
  {
   "cell_type": "code",
   "execution_count": 11,
   "id": "0bf33484",
   "metadata": {},
   "outputs": [
    {
     "data": {
      "text/plain": [
       "array([[30000, 16000, 60000],\n",
       "       [ 5000,  4000, 18000],\n",
       "       [ 2000,  2000,  8400]])"
      ]
     },
     "execution_count": 11,
     "metadata": {},
     "output_type": "execute_result"
    }
   ],
   "source": [
    "price_per_unit2 = np.array([[1000, 400, 1200], [1000, 400, 1200], [1000, 400, 1200]])\n",
    "units2 = np.array([[30, 40, 50], [5, 10, 15], [2, 5, 7]])\n",
    "price_per_unit2*units2"
   ]
  },
  {
   "cell_type": "code",
   "execution_count": 13,
   "id": "f069459d",
   "metadata": {},
   "outputs": [
    {
     "data": {
      "text/plain": [
       "array([34400, 50000, 64400])"
      ]
     },
     "execution_count": 13,
     "metadata": {},
     "output_type": "execute_result"
    }
   ],
   "source": [
    "np.dot(price_per_unit, units)"
   ]
  },
  {
   "cell_type": "markdown",
   "id": "52b67e2f",
   "metadata": {},
   "source": [
    "## Exercise 1: \n",
    "Convert revenues from us dollars to rupees (inr)"
   ]
  },
  {
   "cell_type": "code",
   "execution_count": 14,
   "id": "f8ec4195",
   "metadata": {},
   "outputs": [
    {
     "data": {
      "text/plain": [
       "array([[200, 220, 250],\n",
       "       [ 68,  79, 105],\n",
       "       [110, 140, 180],\n",
       "       [ 80,  85,  90]])"
      ]
     },
     "execution_count": 14,
     "metadata": {},
     "output_type": "execute_result"
    }
   ],
   "source": [
    "revenues = np.array([[200, 220, 250], [68, 79, 105], [110, 140, 180], [80, 85, 90]])\n",
    "revenues"
   ]
  },
  {
   "cell_type": "code",
   "execution_count": 15,
   "id": "e05625c8",
   "metadata": {},
   "outputs": [
    {
     "data": {
      "text/plain": [
       "array([[15000, 16500, 18750],\n",
       "       [ 5100,  5925,  7875],\n",
       "       [ 8250, 10500, 13500],\n",
       "       [ 6000,  6375,  6750]])"
      ]
     },
     "execution_count": 15,
     "metadata": {},
     "output_type": "execute_result"
    }
   ],
   "source": [
    "revenues_inr = revenues*75\n",
    "revenues_inr"
   ]
  },
  {
   "cell_type": "markdown",
   "id": "958b6f3c",
   "metadata": {},
   "source": [
    "## Exercise 2:\n",
    "Divine Flowers is a flower shop that sells different types of flowers. Below is the table showing how many flowers of each type they sold in different months. Also given are the prices of one flower each. Using this find out their total sales in every month."
   ]
  },
  {
   "cell_type": "code",
   "execution_count": 18,
   "id": "140cf535",
   "metadata": {},
   "outputs": [
    {
     "data": {
      "text/plain": [
       "array([[1000, 1800,  375],\n",
       "       [ 200,  390,   75],\n",
       "       [ 800, 2100,  780]])"
      ]
     },
     "execution_count": 18,
     "metadata": {},
     "output_type": "execute_result"
    }
   ],
   "source": [
    "units = np.array([[50, 60, 25], [10, 13, 5], [40, 70, 52]])\n",
    "price_per_unit = np.array([20, 30, 15])\n",
    "units * price_per_unit"
   ]
  },
  {
   "cell_type": "code",
   "execution_count": 19,
   "id": "8191b0a3",
   "metadata": {},
   "outputs": [
    {
     "data": {
      "text/plain": [
       "array([1900, 2640, 1430])"
      ]
     },
     "execution_count": 19,
     "metadata": {},
     "output_type": "execute_result"
    }
   ],
   "source": [
    "np.dot(price_per_unit, units)"
   ]
  }
 ],
 "metadata": {
  "kernelspec": {
   "display_name": "Python 3 (ipykernel)",
   "language": "python",
   "name": "python3"
  },
  "language_info": {
   "codemirror_mode": {
    "name": "ipython",
    "version": 3
   },
   "file_extension": ".py",
   "mimetype": "text/x-python",
   "name": "python",
   "nbconvert_exporter": "python",
   "pygments_lexer": "ipython3",
   "version": "3.9.7"
  }
 },
 "nbformat": 4,
 "nbformat_minor": 5
}
